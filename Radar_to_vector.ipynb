{
  "cells": [
    {
      "cell_type": "markdown",
      "metadata": {
        "id": "view-in-github",
        "colab_type": "text"
      },
      "source": [
        "<a href=\"https://colab.research.google.com/github/hopperrr/Weather_radar/blob/main/Radar_to_vector.ipynb\" target=\"_parent\"><img src=\"https://colab.research.google.com/assets/colab-badge.svg\" alt=\"Open In Colab\"/></a>"
      ]
    },
    {
      "cell_type": "markdown",
      "metadata": {
        "id": "2faJWK8jxCx0"
      },
      "source": [
        "Source: https://mrms.ncep.noaa.gov/data/2D/CREF_1HR_MAX/\n",
        "\n",
        "Grab data and convert to vector"
      ]
    },
    {
      "cell_type": "code",
      "execution_count": null,
      "metadata": {
        "id": "o8R_-C7cXTRM"
      },
      "outputs": [],
      "source": [
        "#!pip install leafmap\n",
        "!pip install geopandas\n",
        "#!pip install topojson\n",
        "!pip install rasterio"
      ]
    },
    {
      "cell_type": "code",
      "execution_count": null,
      "metadata": {
        "id": "s2oqy2_Twn1l",
        "colab": {
          "base_uri": "https://localhost:8080/"
        },
        "outputId": "db39dcea-7c93-4c42-a207-4cf0df2cfba6"
      },
      "outputs": [
        {
          "output_type": "stream",
          "name": "stdout",
          "text": [
            "--2022-11-01 23:02:30--  https://mrms.ncep.noaa.gov/data/2D/CREF_1HR_MAX/MRMS_CREF_1HR_MAX.latest.grib2.gz\n",
            "Resolving mrms.ncep.noaa.gov (mrms.ncep.noaa.gov)... 140.90.101.53\n",
            "Connecting to mrms.ncep.noaa.gov (mrms.ncep.noaa.gov)|140.90.101.53|:443... connected.\n",
            "HTTP request sent, awaiting response... 200 OK\n",
            "Length: 2456437 (2.3M) [application/x-gzip]\n",
            "Saving to: ‘MRMS_CREF_1HR_MAX.latest.grib2.gz’\n",
            "\n",
            "MRMS_CREF_1HR_MAX.l 100%[===================>]   2.34M  1.12MB/s    in 2.1s    \n",
            "\n",
            "2022-11-01 23:02:33 (1.12 MB/s) - ‘MRMS_CREF_1HR_MAX.latest.grib2.gz’ saved [2456437/2456437]\n",
            "\n"
          ]
        }
      ],
      "source": [
        "!wget https://mrms.ncep.noaa.gov/data/2D/CREF_1HR_MAX/MRMS_CREF_1HR_MAX.latest.grib2.gz\n",
        "!gzip -d /content/MRMS_CREF_1HR_MAX.latest.grib2.gz"
      ]
    },
    {
      "cell_type": "code",
      "execution_count": null,
      "metadata": {
        "id": "ozWMRP38Xtt5",
        "colab": {
          "base_uri": "https://localhost:8080/"
        },
        "outputId": "38c50a78-b21f-41ae-b8df-7dda63ab74c0"
      },
      "outputs": [
        {
          "output_type": "stream",
          "name": "stdout",
          "text": [
            "Creating output file that is 7000P x 3500L.\n",
            "Processing input file MRMS_CREF_1HR_MAX.latest.grib2.\n",
            "0...10...20...30...40...50...60...70...80...90...100 - done.\n",
            "Input file size is 7000, 3500\n",
            "0...10...20...30...40...50...60...70...80...90...100 - done.\n"
          ]
        }
      ],
      "source": [
        "#https://gis.stackexchange.com/questions/37790/reprojecting-raster-from-0-360-to-180-180-with-cutting-180-meridian-using-gdalw\n",
        "!gdalwarp -s_srs \"+proj=longlat +ellps=WGS84\" -t_srs WGS84 MRMS_CREF_1HR_MAX.latest.grib2 180.tif  -wo SOURCE_EXTRA=1000 --config CENTER_LONG 0\n",
        "#!gdal_translate -a_nodata -99 -ot Float32 -projwin -74.6793 43.0922 -68.3148 40.2055 180.tif small_area.tif\n",
        "!gdal_translate -a_nodata -99 -ot Float32 -projwin -103.025 36.829 -84.708 25.080 180.tif small_area.tif\n",
        "#Switch order of lat and long\n",
        "#Texas 36.829,-103.025  25.080,-84.708\n",
        "#43.0922,-74.6793 40.2055,-68.3148"
      ]
    },
    {
      "cell_type": "code",
      "source": [
        "#9/22/2022 Use this for exporting\n",
        "#Much faster than polygonize!\n",
        "import gdal\n",
        "import pandas as pd\n",
        "import geopandas\n",
        "import matplotlib.pyplot as plt\n",
        "import numpy as np\n",
        "import os\n",
        "from google.colab import files\n",
        "\n",
        "import rasterio\n",
        "from rasterio.features import shapes\n",
        "mask = None\n",
        "results=None\n",
        "with rasterio.Env():\n",
        "    with rasterio.open('/content/small_area.tif') as src:\n",
        "        image = src.read(1) # first band\n",
        "        results = (\n",
        "     \n",
        "        {'properties': {'DN': v}, 'geometry': s}\n",
        "        for i, (s, v) \n",
        "        in enumerate(\n",
        "            shapes(image, mask=mask, transform=src.transform)))\n",
        "        \n",
        "geoms=list(results)        \n",
        "\n",
        "import geopandas as gp\n",
        "\n",
        "gdf = geopandas.GeoDataFrame.from_features(geoms) #Convert to Geopandas dataframe\n",
        "\n",
        "gdf.insert(0, 'New_ID', range(0, 0 + len(gdf)))\n",
        "\n",
        "gdf.head()\n",
        "\n",
        "gdf.set_crs(\"EPSG:4326\", inplace=True)\n",
        "gdf_good = gdf[gdf['DN'] > -90]\n",
        "gdf_good.to_file(\"radar.gpkg\", driver='GPKG')\n",
        "files.download('/content/radar.gpkg')"
      ],
      "metadata": {
        "id": "WfMuAw-uXTrH",
        "colab": {
          "base_uri": "https://localhost:8080/",
          "height": 34
        },
        "outputId": "c1fd8e18-3188-404d-f07e-a2fe0183ac9f"
      },
      "execution_count": null,
      "outputs": [
        {
          "output_type": "display_data",
          "data": {
            "text/plain": [
              "<IPython.core.display.Javascript object>"
            ],
            "application/javascript": [
              "\n",
              "    async function download(id, filename, size) {\n",
              "      if (!google.colab.kernel.accessAllowed) {\n",
              "        return;\n",
              "      }\n",
              "      const div = document.createElement('div');\n",
              "      const label = document.createElement('label');\n",
              "      label.textContent = `Downloading \"${filename}\": `;\n",
              "      div.appendChild(label);\n",
              "      const progress = document.createElement('progress');\n",
              "      progress.max = size;\n",
              "      div.appendChild(progress);\n",
              "      document.body.appendChild(div);\n",
              "\n",
              "      const buffers = [];\n",
              "      let downloaded = 0;\n",
              "\n",
              "      const channel = await google.colab.kernel.comms.open(id);\n",
              "      // Send a message to notify the kernel that we're ready.\n",
              "      channel.send({})\n",
              "\n",
              "      for await (const message of channel.messages) {\n",
              "        // Send a message to notify the kernel that we're ready.\n",
              "        channel.send({})\n",
              "        if (message.buffers) {\n",
              "          for (const buffer of message.buffers) {\n",
              "            buffers.push(buffer);\n",
              "            downloaded += buffer.byteLength;\n",
              "            progress.value = downloaded;\n",
              "          }\n",
              "        }\n",
              "      }\n",
              "      const blob = new Blob(buffers, {type: 'application/binary'});\n",
              "      const a = document.createElement('a');\n",
              "      a.href = window.URL.createObjectURL(blob);\n",
              "      a.download = filename;\n",
              "      div.appendChild(a);\n",
              "      a.click();\n",
              "      div.remove();\n",
              "    }\n",
              "  "
            ]
          },
          "metadata": {}
        },
        {
          "output_type": "display_data",
          "data": {
            "text/plain": [
              "<IPython.core.display.Javascript object>"
            ],
            "application/javascript": [
              "download(\"download_50d3d872-5025-40f6-9370-6fdaf47e2b69\", \"radar.gpkg\", 84779008)"
            ]
          },
          "metadata": {}
        }
      ]
    }
  ],
  "metadata": {
    "colab": {
      "machine_shape": "hm",
      "provenance": [],
      "mount_file_id": "16sgfht13bzp--fJLPj7oRKl-KCNTZTSf",
      "authorship_tag": "ABX9TyP/j+kmXVe2j8QGlZkvVEYq",
      "include_colab_link": true
    },
    "kernelspec": {
      "display_name": "Python 3",
      "name": "python3"
    }
  },
  "nbformat": 4,
  "nbformat_minor": 0
}